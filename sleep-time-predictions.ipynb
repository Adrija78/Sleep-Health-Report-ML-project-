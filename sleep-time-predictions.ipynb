{
 "cells": [
  {
   "cell_type": "code",
   "execution_count": 24,
   "id": "3f56d1c2-9b52-438c-bdd8-d324884d04b2",
   "metadata": {},
   "outputs": [],
   "source": [
    "# ==========================\n",
    "# Import Libraries\n",
    "# ==========================\n",
    "import pandas as pd\n",
    "import numpy as np\n",
    "import matplotlib.pyplot as plt\n",
    "import seaborn as sns\n",
    "\n",
    "from sklearn.model_selection import train_test_split\n",
    "from sklearn.preprocessing import MinMaxScaler\n",
    "from sklearn.linear_model import LinearRegression\n",
    "from sklearn.svm import SVR\n",
    "from sklearn.tree import DecisionTreeRegressor\n",
    "from sklearn.neighbors import KNeighborsRegressor\n",
    "from sklearn.metrics import mean_absolute_error, mean_squared_error, r2_score"
   ]
  },
  {
   "cell_type": "code",
   "execution_count": 25,
   "id": "c7b000ba-4558-4265-acf0-c3c412965ca5",
   "metadata": {},
   "outputs": [
    {
     "name": "stdout",
     "output_type": "stream",
     "text": [
      "First 5 rows:\n",
      "    WorkoutTime  ReadingTime  PhoneTime  WorkHours  CaffeineIntake  \\\n",
      "0         1.12         0.52       3.29       7.89          216.08   \n",
      "1         2.85         0.49       4.22       5.03          206.18   \n",
      "2         2.20         1.81       4.04       9.23           28.73   \n",
      "3         1.80         0.50       1.62       7.68          276.77   \n",
      "4         0.47         0.54       1.60       4.94          170.54   \n",
      "\n",
      "   RelaxationTime  SleepTime  \n",
      "0            0.75          3  \n",
      "1            0.67          4  \n",
      "2            0.35          3  \n",
      "3            1.21          4  \n",
      "4            0.95          5  \n"
     ]
    }
   ],
   "source": [
    "# ==========================\n",
    "# Load Dataset\n",
    "# ==========================\n",
    "df = pd.read_csv(\"sleeptime_prediction_dataset.csv\")\n",
    "print(\"First 5 rows:\\n\", df.head())"
   ]
  },
  {
   "cell_type": "code",
   "execution_count": 26,
   "id": "9077b07d-34e8-4bcd-b2e6-a95e4a9a4061",
   "metadata": {},
   "outputs": [
    {
     "name": "stdout",
     "output_type": "stream",
     "text": [
      "\n",
      "Dataset Info:\n",
      "\n",
      "<class 'pandas.core.frame.DataFrame'>\n",
      "RangeIndex: 2000 entries, 0 to 1999\n",
      "Data columns (total 7 columns):\n",
      " #   Column          Non-Null Count  Dtype  \n",
      "---  ------          --------------  -----  \n",
      " 0   WorkoutTime     2000 non-null   float64\n",
      " 1   ReadingTime     2000 non-null   float64\n",
      " 2   PhoneTime       2000 non-null   float64\n",
      " 3   WorkHours       2000 non-null   float64\n",
      " 4   CaffeineIntake  2000 non-null   float64\n",
      " 5   RelaxationTime  2000 non-null   float64\n",
      " 6   SleepTime       2000 non-null   int64  \n",
      "dtypes: float64(6), int64(1)\n",
      "memory usage: 109.5 KB\n",
      "None\n"
     ]
    }
   ],
   "source": [
    "print(\"\\nDataset Info:\\n\")\n",
    "print(df.info())"
   ]
  },
  {
   "cell_type": "code",
   "execution_count": 27,
   "id": "79bf8092-c24a-4043-956a-ae323c5b1d0b",
   "metadata": {},
   "outputs": [
    {
     "name": "stdout",
     "output_type": "stream",
     "text": [
      "\n",
      "Null Values per Column:\n",
      "WorkoutTime       0\n",
      "ReadingTime       0\n",
      "PhoneTime         0\n",
      "WorkHours         0\n",
      "CaffeineIntake    0\n",
      "RelaxationTime    0\n",
      "SleepTime         0\n",
      "dtype: int64\n"
     ]
    }
   ],
   "source": [
    "#Data quality checks\n",
    "#-------------------------------------\n",
    "#check for missing values\n",
    "print(\"\\nNull Values per Column:\")\n",
    "print(df.isnull().sum())      "
   ]
  },
  {
   "cell_type": "code",
   "execution_count": 28,
   "id": "4dd5dcac-ae1e-47ee-8ee5-f446c195a931",
   "metadata": {},
   "outputs": [
    {
     "name": "stdout",
     "output_type": "stream",
     "text": [
      "\n",
      "Duplicate Rows: 0\n"
     ]
    }
   ],
   "source": [
    "#check for duplicate values\n",
    "print(\"\\nDuplicate Rows:\", df.duplicated().sum())"
   ]
  },
  {
   "cell_type": "code",
   "execution_count": 29,
   "id": "91a9daa4-58a5-4247-992a-18c4b9358c4a",
   "metadata": {},
   "outputs": [
    {
     "name": "stdout",
     "output_type": "stream",
     "text": [
      "\n",
      "UniqueValues per Column:\n",
      "WorkoutTime: 300\n",
      "ReadingTime: 201\n",
      "PhoneTime: 394\n",
      "WorkHours: 581\n",
      "CaffeineIntake: 1939\n",
      "RelaxationTime: 201\n",
      "SleepTime: 8\n"
     ]
    }
   ],
   "source": [
    "#check unique values in each column\n",
    "print(\"\\nUniqueValues per Column:\")\n",
    "for col in df.columns:\n",
    "    print(f\"{col}: {df[col].nunique()}\")"
   ]
  },
  {
   "cell_type": "code",
   "execution_count": 30,
   "id": "ff878ec2-b451-400c-867a-d2a0ece59e77",
   "metadata": {},
   "outputs": [
    {
     "name": "stdout",
     "output_type": "stream",
     "text": [
      "       WorkoutTime  ReadingTime    PhoneTime    WorkHours  CaffeineIntake  \\\n",
      "count  2000.000000  2000.000000  2000.000000  2000.000000     2000.000000   \n",
      "mean      1.495915     0.992785     2.985195     6.926945      147.493780   \n",
      "std       0.876639     0.577303     1.151776     1.723843       84.651139   \n",
      "min       0.010000     0.000000     1.000000     4.000000        0.020000   \n",
      "25%       0.710000     0.500000     1.990000     5.440000       75.980000   \n",
      "50%       1.520000     0.990000     2.965000     6.910000      146.010000   \n",
      "75%       2.250000     1.500000     3.960000     8.422500      218.902500   \n",
      "max       3.000000     2.000000     5.000000    10.000000      299.850000   \n",
      "\n",
      "       RelaxationTime    SleepTime  \n",
      "count     2000.000000  2000.000000  \n",
      "mean         1.010955     4.328500  \n",
      "std          0.582619     1.239498  \n",
      "min          0.000000     2.000000  \n",
      "25%          0.510000     3.000000  \n",
      "50%          1.010000     4.000000  \n",
      "75%          1.530000     5.000000  \n",
      "max          2.000000     9.000000  \n"
     ]
    }
   ],
   "source": [
    "#show basic statistics for each column\n",
    "print(df.describe())"
   ]
  },
  {
   "cell_type": "code",
   "execution_count": 31,
   "id": "abe9ced1-df69-4c92-9afa-26f94e857640",
   "metadata": {},
   "outputs": [
    {
     "name": "stdout",
     "output_type": "stream",
     "text": [
      "\n",
      "Feature Columns: ['WorkoutTime', 'ReadingTime', 'PhoneTime', 'WorkHours', 'CaffeineIntake', 'RelaxationTime']\n"
     ]
    }
   ],
   "source": [
    "# ==========================\n",
    "# Features & Target\n",
    "# ==========================\n",
    "# Assume target column is \"sleep_hours\"\n",
    "# Features = all numeric columns except sleep_hours\n",
    "numeric_cols = df.select_dtypes(include=[np.number]).columns.tolist()\n",
    "numeric_cols.remove(\"SleepTime\")\n",
    "\n",
    "X = df[numeric_cols]\n",
    "y = df[\"SleepTime\"]\n",
    "\n",
    "print(\"\\nFeature Columns:\", numeric_cols)"
   ]
  },
  {
   "cell_type": "code",
   "execution_count": 32,
   "id": "82ae1a08-0cc9-45aa-9544-cc44408a9926",
   "metadata": {},
   "outputs": [],
   "source": [
    "# ==========================\n",
    "# Train-Test Split\n",
    "# ==========================\n",
    "X_train, X_test, y_train, y_test = train_test_split(\n",
    "    X, y, test_size=0.2, random_state=42\n",
    ")"
   ]
  },
  {
   "cell_type": "code",
   "execution_count": 33,
   "id": "ecb03770-3a83-4cc1-8af4-d56b4d4d9011",
   "metadata": {},
   "outputs": [],
   "source": [
    "# ==========================\n",
    "# Scale Features\n",
    "# ==========================\n",
    "scaler = MinMaxScaler()\n",
    "X_train_scaled = scaler.fit_transform(X_train)\n",
    "X_test_scaled = scaler.transform(X_test)"
   ]
  },
  {
   "cell_type": "code",
   "execution_count": 34,
   "id": "0b856f6c-178a-45dc-888c-0329122bd58b",
   "metadata": {},
   "outputs": [],
   "source": [
    "# ==========================\n",
    "# Models to Train\n",
    "# ==========================\n",
    "models = {\n",
    "    \"Linear Regression\": LinearRegression(),\n",
    "    \"SVR\": SVR(),\n",
    "    \"Decision Tree\": DecisionTreeRegressor(random_state=42),\n",
    "    \"KNN\": KNeighborsRegressor(n_neighbors=5)\n",
    "}\n",
    "\n",
    "results = {}"
   ]
  },
  {
   "cell_type": "code",
   "execution_count": 35,
   "id": "68696491-fa8e-48ff-967c-cc1110e259b2",
   "metadata": {},
   "outputs": [],
   "source": [
    "# ==========================\n",
    "# Train & Evaluate\n",
    "# ==========================\n",
    "for name, model in models.items():\n",
    "    model.fit(X_train_scaled, y_train)\n",
    "    y_pred = model.predict(X_test_scaled)\n",
    "    \n",
    "    mae = mean_absolute_error(y_test, y_pred)\n",
    "    rmse = np.sqrt(mean_squared_error(y_test, y_pred))\n",
    "    r2 = r2_score(y_test, y_pred)\n",
    "    \n",
    "    results[name] = {\"MAE\": mae, \"RMSE\": rmse, \"R²\": r2}"
   ]
  },
  {
   "cell_type": "code",
   "execution_count": 36,
   "id": "c55c3ddd-a052-4b17-85a5-cb8cc7cbfd9b",
   "metadata": {},
   "outputs": [
    {
     "name": "stdout",
     "output_type": "stream",
     "text": [
      "\n",
      "Model Performance:\n",
      "Linear Regression: MAE=0.4574, RMSE=0.8169, R²=0.5601\n",
      "SVR: MAE=0.4157, RMSE=0.8180, R²=0.5588\n",
      "Decision Tree: MAE=0.5750, RMSE=1.1113, R²=0.1858\n",
      "KNN: MAE=0.5325, RMSE=0.9329, R²=0.4262\n"
     ]
    }
   ],
   "source": [
    "# ==========================\n",
    "# Show Results\n",
    "# ==========================\n",
    "print(\"\\nModel Performance:\")\n",
    "for name, metrics in results.items():\n",
    "    print(f\"{name}: MAE={metrics['MAE']:.4f}, RMSE={metrics['RMSE']:.4f}, R²={metrics['R²']:.4f}\")"
   ]
  },
  {
   "cell_type": "code",
   "execution_count": 37,
   "id": "4d8d970e-0ebd-474b-8bab-2aa333f8de4a",
   "metadata": {},
   "outputs": [
    {
     "data": {
      "image/png": "[encoded data removed]",
      "text/plain": [
       "<Figure size 1000x600 with 1 Axes>"
      ]
     },
     "metadata": {},
     "output_type": "display_data"
    }
   ],
   "source": [
    "# ==========================\n",
    "# Plot Performance\n",
    "# ==========================\n",
    "res_df = pd.DataFrame(results).T\n",
    "\n",
    "res_df.plot(kind=\"bar\", figsize=(10,6))\n",
    "plt.title(\"Model Performance Comparison\")\n",
    "plt.ylabel(\"Error / Score\")\n",
    "plt.xticks(rotation=45)\n",
    "plt.grid(axis=\"y\", linestyle=\":\")\n",
    "plt.show()\n"
   ]
  },
  {
   "cell_type": "code",
   "execution_count": null,
   "id": "88c4ddee-abc6-4710-9e63-f219cffc4e76",
   "metadata": {},
   "outputs": [],
   "source": []
  }
 ],
 "metadata": {
  "kaggle": {
   "accelerator": "none",
   "dataSources": [
    {
     "datasetId": 6390146,
     "sourceId": 10321027,
     "sourceType": "datasetVersion"
    }
   ],
   "dockerImageVersionId": 30822,
   "isGpuEnabled": false,
   "isInternetEnabled": false,
   "language": "python",
   "sourceType": "notebook"
  },
  "kernelspec": {
   "display_name": "Python 3 (ipykernel)",
   "language": "python",
   "name": "python3"
  },
  "language_info": {
   "codemirror_mode": {
    "name": "ipython",
    "version": 3
   },
   "file_extension": ".py",
   "mimetype": "text/x-python",
   "name": "python",
   "nbconvert_exporter": "python",
   "pygments_lexer": "ipython3",
   "version": "3.13.5"
  },
  "papermill": {
   "default_parameters": {},
   "duration": 7.850135,
   "end_time": "2025-02-10T18:20:56.450045",
   "environment_variables": {},
   "exception": null,
   "input_path": "__notebook__.ipynb",
   "output_path": "__notebook__.ipynb",
   "parameters": {},
   "start_time": "2025-02-10T18:20:48.599910",
   "version": "2.6.0"
  }
 },
 "nbformat": 4,
 "nbformat_minor": 5
}
